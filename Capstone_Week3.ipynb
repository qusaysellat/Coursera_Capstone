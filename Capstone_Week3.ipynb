{
  "nbformat": 4,
  "nbformat_minor": 0,
  "metadata": {
    "colab": {
      "name": "Capstone Week3.ipynb",
      "provenance": [],
      "include_colab_link": true
    },
    "kernelspec": {
      "name": "python3",
      "display_name": "Python 3"
    }
  },
  "cells": [
    {
      "cell_type": "markdown",
      "metadata": {
        "id": "view-in-github",
        "colab_type": "text"
      },
      "source": [
        "<a href=\"https://colab.research.google.com/github/qusaysellat/Coursera_Capstone/blob/master/Capstone_Week3.ipynb\" target=\"_parent\"><img src=\"https://colab.research.google.com/assets/colab-badge.svg\" alt=\"Open In Colab\"/></a>"
      ]
    },
    {
      "cell_type": "markdown",
      "metadata": {
        "id": "LaSlWVLZzOHY",
        "colab_type": "text"
      },
      "source": [
        "# Capstone Week3\n",
        "This notebook is the peer-reviewd assignment of the 3rd week of Coursera's capstone course - IBM data science certificate."
      ]
    },
    {
      "cell_type": "code",
      "metadata": {
        "id": "R6R8N4dfzM5w",
        "colab_type": "code",
        "colab": {}
      },
      "source": [
        "# import necessary libraries\n",
        "import pandas as pd\n",
        "import numpy as np\n",
        "import matplotlib.pyplot as plt"
      ],
      "execution_count": 0,
      "outputs": []
    },
    {
      "cell_type": "code",
      "metadata": {
        "id": "fFVL5tL6zaDT",
        "colab_type": "code",
        "colab": {}
      },
      "source": [
        "# read existing tables in the provided link\n",
        "df = pd.read_html('https://en.wikipedia.org/wiki/List_of_postal_codes_of_Canada:_M', header=0)"
      ],
      "execution_count": 0,
      "outputs": []
    },
    {
      "cell_type": "code",
      "metadata": {
        "id": "2FfILzJBzpEI",
        "colab_type": "code",
        "colab": {
          "base_uri": "https://localhost:8080/",
          "height": 419
        },
        "outputId": "0d9cb6b5-832e-4435-e20a-b2468d40ad0d"
      },
      "source": [
        "# take the first table as it contains the data we need\n",
        "df=df[0]\n",
        "df"
      ],
      "execution_count": 3,
      "outputs": [
        {
          "output_type": "execute_result",
          "data": {
            "text/html": [
              "<div>\n",
              "<style scoped>\n",
              "    .dataframe tbody tr th:only-of-type {\n",
              "        vertical-align: middle;\n",
              "    }\n",
              "\n",
              "    .dataframe tbody tr th {\n",
              "        vertical-align: top;\n",
              "    }\n",
              "\n",
              "    .dataframe thead th {\n",
              "        text-align: right;\n",
              "    }\n",
              "</style>\n",
              "<table border=\"1\" class=\"dataframe\">\n",
              "  <thead>\n",
              "    <tr style=\"text-align: right;\">\n",
              "      <th></th>\n",
              "      <th>Postcode</th>\n",
              "      <th>Borough</th>\n",
              "      <th>Neighbourhood</th>\n",
              "    </tr>\n",
              "  </thead>\n",
              "  <tbody>\n",
              "    <tr>\n",
              "      <th>0</th>\n",
              "      <td>M1A</td>\n",
              "      <td>Not assigned</td>\n",
              "      <td>Not assigned</td>\n",
              "    </tr>\n",
              "    <tr>\n",
              "      <th>1</th>\n",
              "      <td>M2A</td>\n",
              "      <td>Not assigned</td>\n",
              "      <td>Not assigned</td>\n",
              "    </tr>\n",
              "    <tr>\n",
              "      <th>2</th>\n",
              "      <td>M3A</td>\n",
              "      <td>North York</td>\n",
              "      <td>Parkwoods</td>\n",
              "    </tr>\n",
              "    <tr>\n",
              "      <th>3</th>\n",
              "      <td>M4A</td>\n",
              "      <td>North York</td>\n",
              "      <td>Victoria Village</td>\n",
              "    </tr>\n",
              "    <tr>\n",
              "      <th>4</th>\n",
              "      <td>M5A</td>\n",
              "      <td>Downtown Toronto</td>\n",
              "      <td>Harbourfront</td>\n",
              "    </tr>\n",
              "    <tr>\n",
              "      <th>...</th>\n",
              "      <td>...</td>\n",
              "      <td>...</td>\n",
              "      <td>...</td>\n",
              "    </tr>\n",
              "    <tr>\n",
              "      <th>282</th>\n",
              "      <td>M8Z</td>\n",
              "      <td>Etobicoke</td>\n",
              "      <td>Mimico NW</td>\n",
              "    </tr>\n",
              "    <tr>\n",
              "      <th>283</th>\n",
              "      <td>M8Z</td>\n",
              "      <td>Etobicoke</td>\n",
              "      <td>The Queensway West</td>\n",
              "    </tr>\n",
              "    <tr>\n",
              "      <th>284</th>\n",
              "      <td>M8Z</td>\n",
              "      <td>Etobicoke</td>\n",
              "      <td>Royal York South West</td>\n",
              "    </tr>\n",
              "    <tr>\n",
              "      <th>285</th>\n",
              "      <td>M8Z</td>\n",
              "      <td>Etobicoke</td>\n",
              "      <td>South of Bloor</td>\n",
              "    </tr>\n",
              "    <tr>\n",
              "      <th>286</th>\n",
              "      <td>M9Z</td>\n",
              "      <td>Not assigned</td>\n",
              "      <td>Not assigned</td>\n",
              "    </tr>\n",
              "  </tbody>\n",
              "</table>\n",
              "<p>287 rows × 3 columns</p>\n",
              "</div>"
            ],
            "text/plain": [
              "    Postcode           Borough          Neighbourhood\n",
              "0        M1A      Not assigned           Not assigned\n",
              "1        M2A      Not assigned           Not assigned\n",
              "2        M3A        North York              Parkwoods\n",
              "3        M4A        North York       Victoria Village\n",
              "4        M5A  Downtown Toronto           Harbourfront\n",
              "..       ...               ...                    ...\n",
              "282      M8Z         Etobicoke              Mimico NW\n",
              "283      M8Z         Etobicoke     The Queensway West\n",
              "284      M8Z         Etobicoke  Royal York South West\n",
              "285      M8Z         Etobicoke         South of Bloor\n",
              "286      M9Z      Not assigned           Not assigned\n",
              "\n",
              "[287 rows x 3 columns]"
            ]
          },
          "metadata": {
            "tags": []
          },
          "execution_count": 3
        }
      ]
    },
    {
      "cell_type": "code",
      "metadata": {
        "id": "_yRoBp7y1qJM",
        "colab_type": "code",
        "colab": {
          "base_uri": "https://localhost:8080/",
          "height": 221
        },
        "outputId": "34a98e68-0008-46e1-92b1-738127f871f0"
      },
      "source": [
        "# determine the Not assigned Boroughs in order to ignore them\n",
        "where_to_ignore = df['Borough']!='Not assigned'\n",
        "where_to_ignore"
      ],
      "execution_count": 4,
      "outputs": [
        {
          "output_type": "execute_result",
          "data": {
            "text/plain": [
              "0      False\n",
              "1      False\n",
              "2       True\n",
              "3       True\n",
              "4       True\n",
              "       ...  \n",
              "282     True\n",
              "283     True\n",
              "284     True\n",
              "285     True\n",
              "286    False\n",
              "Name: Borough, Length: 287, dtype: bool"
            ]
          },
          "metadata": {
            "tags": []
          },
          "execution_count": 4
        }
      ]
    },
    {
      "cell_type": "code",
      "metadata": {
        "id": "uXIUVPgM145a",
        "colab_type": "code",
        "colab": {
          "base_uri": "https://localhost:8080/",
          "height": 419
        },
        "outputId": "030509a7-f73e-42e6-fe44-a0f20db01b58"
      },
      "source": [
        "# ignore Not assigned Boroughs\n",
        "df=df[where_to_ignore]\n",
        "df"
      ],
      "execution_count": 5,
      "outputs": [
        {
          "output_type": "execute_result",
          "data": {
            "text/html": [
              "<div>\n",
              "<style scoped>\n",
              "    .dataframe tbody tr th:only-of-type {\n",
              "        vertical-align: middle;\n",
              "    }\n",
              "\n",
              "    .dataframe tbody tr th {\n",
              "        vertical-align: top;\n",
              "    }\n",
              "\n",
              "    .dataframe thead th {\n",
              "        text-align: right;\n",
              "    }\n",
              "</style>\n",
              "<table border=\"1\" class=\"dataframe\">\n",
              "  <thead>\n",
              "    <tr style=\"text-align: right;\">\n",
              "      <th></th>\n",
              "      <th>Postcode</th>\n",
              "      <th>Borough</th>\n",
              "      <th>Neighbourhood</th>\n",
              "    </tr>\n",
              "  </thead>\n",
              "  <tbody>\n",
              "    <tr>\n",
              "      <th>2</th>\n",
              "      <td>M3A</td>\n",
              "      <td>North York</td>\n",
              "      <td>Parkwoods</td>\n",
              "    </tr>\n",
              "    <tr>\n",
              "      <th>3</th>\n",
              "      <td>M4A</td>\n",
              "      <td>North York</td>\n",
              "      <td>Victoria Village</td>\n",
              "    </tr>\n",
              "    <tr>\n",
              "      <th>4</th>\n",
              "      <td>M5A</td>\n",
              "      <td>Downtown Toronto</td>\n",
              "      <td>Harbourfront</td>\n",
              "    </tr>\n",
              "    <tr>\n",
              "      <th>5</th>\n",
              "      <td>M6A</td>\n",
              "      <td>North York</td>\n",
              "      <td>Lawrence Heights</td>\n",
              "    </tr>\n",
              "    <tr>\n",
              "      <th>6</th>\n",
              "      <td>M6A</td>\n",
              "      <td>North York</td>\n",
              "      <td>Lawrence Manor</td>\n",
              "    </tr>\n",
              "    <tr>\n",
              "      <th>...</th>\n",
              "      <td>...</td>\n",
              "      <td>...</td>\n",
              "      <td>...</td>\n",
              "    </tr>\n",
              "    <tr>\n",
              "      <th>281</th>\n",
              "      <td>M8Z</td>\n",
              "      <td>Etobicoke</td>\n",
              "      <td>Kingsway Park South West</td>\n",
              "    </tr>\n",
              "    <tr>\n",
              "      <th>282</th>\n",
              "      <td>M8Z</td>\n",
              "      <td>Etobicoke</td>\n",
              "      <td>Mimico NW</td>\n",
              "    </tr>\n",
              "    <tr>\n",
              "      <th>283</th>\n",
              "      <td>M8Z</td>\n",
              "      <td>Etobicoke</td>\n",
              "      <td>The Queensway West</td>\n",
              "    </tr>\n",
              "    <tr>\n",
              "      <th>284</th>\n",
              "      <td>M8Z</td>\n",
              "      <td>Etobicoke</td>\n",
              "      <td>Royal York South West</td>\n",
              "    </tr>\n",
              "    <tr>\n",
              "      <th>285</th>\n",
              "      <td>M8Z</td>\n",
              "      <td>Etobicoke</td>\n",
              "      <td>South of Bloor</td>\n",
              "    </tr>\n",
              "  </tbody>\n",
              "</table>\n",
              "<p>210 rows × 3 columns</p>\n",
              "</div>"
            ],
            "text/plain": [
              "    Postcode           Borough             Neighbourhood\n",
              "2        M3A        North York                 Parkwoods\n",
              "3        M4A        North York          Victoria Village\n",
              "4        M5A  Downtown Toronto              Harbourfront\n",
              "5        M6A        North York          Lawrence Heights\n",
              "6        M6A        North York            Lawrence Manor\n",
              "..       ...               ...                       ...\n",
              "281      M8Z         Etobicoke  Kingsway Park South West\n",
              "282      M8Z         Etobicoke                 Mimico NW\n",
              "283      M8Z         Etobicoke        The Queensway West\n",
              "284      M8Z         Etobicoke     Royal York South West\n",
              "285      M8Z         Etobicoke            South of Bloor\n",
              "\n",
              "[210 rows x 3 columns]"
            ]
          },
          "metadata": {
            "tags": []
          },
          "execution_count": 5
        }
      ]
    },
    {
      "cell_type": "code",
      "metadata": {
        "id": "a1xfSctb2I3E",
        "colab_type": "code",
        "colab": {
          "base_uri": "https://localhost:8080/",
          "height": 419
        },
        "outputId": "bde983b6-820b-482c-b83d-80ab893bd80c"
      },
      "source": [
        "# reindex to reflect the change\n",
        "df.reset_index(drop=True, inplace=True)\n",
        "df"
      ],
      "execution_count": 6,
      "outputs": [
        {
          "output_type": "execute_result",
          "data": {
            "text/html": [
              "<div>\n",
              "<style scoped>\n",
              "    .dataframe tbody tr th:only-of-type {\n",
              "        vertical-align: middle;\n",
              "    }\n",
              "\n",
              "    .dataframe tbody tr th {\n",
              "        vertical-align: top;\n",
              "    }\n",
              "\n",
              "    .dataframe thead th {\n",
              "        text-align: right;\n",
              "    }\n",
              "</style>\n",
              "<table border=\"1\" class=\"dataframe\">\n",
              "  <thead>\n",
              "    <tr style=\"text-align: right;\">\n",
              "      <th></th>\n",
              "      <th>Postcode</th>\n",
              "      <th>Borough</th>\n",
              "      <th>Neighbourhood</th>\n",
              "    </tr>\n",
              "  </thead>\n",
              "  <tbody>\n",
              "    <tr>\n",
              "      <th>0</th>\n",
              "      <td>M3A</td>\n",
              "      <td>North York</td>\n",
              "      <td>Parkwoods</td>\n",
              "    </tr>\n",
              "    <tr>\n",
              "      <th>1</th>\n",
              "      <td>M4A</td>\n",
              "      <td>North York</td>\n",
              "      <td>Victoria Village</td>\n",
              "    </tr>\n",
              "    <tr>\n",
              "      <th>2</th>\n",
              "      <td>M5A</td>\n",
              "      <td>Downtown Toronto</td>\n",
              "      <td>Harbourfront</td>\n",
              "    </tr>\n",
              "    <tr>\n",
              "      <th>3</th>\n",
              "      <td>M6A</td>\n",
              "      <td>North York</td>\n",
              "      <td>Lawrence Heights</td>\n",
              "    </tr>\n",
              "    <tr>\n",
              "      <th>4</th>\n",
              "      <td>M6A</td>\n",
              "      <td>North York</td>\n",
              "      <td>Lawrence Manor</td>\n",
              "    </tr>\n",
              "    <tr>\n",
              "      <th>...</th>\n",
              "      <td>...</td>\n",
              "      <td>...</td>\n",
              "      <td>...</td>\n",
              "    </tr>\n",
              "    <tr>\n",
              "      <th>205</th>\n",
              "      <td>M8Z</td>\n",
              "      <td>Etobicoke</td>\n",
              "      <td>Kingsway Park South West</td>\n",
              "    </tr>\n",
              "    <tr>\n",
              "      <th>206</th>\n",
              "      <td>M8Z</td>\n",
              "      <td>Etobicoke</td>\n",
              "      <td>Mimico NW</td>\n",
              "    </tr>\n",
              "    <tr>\n",
              "      <th>207</th>\n",
              "      <td>M8Z</td>\n",
              "      <td>Etobicoke</td>\n",
              "      <td>The Queensway West</td>\n",
              "    </tr>\n",
              "    <tr>\n",
              "      <th>208</th>\n",
              "      <td>M8Z</td>\n",
              "      <td>Etobicoke</td>\n",
              "      <td>Royal York South West</td>\n",
              "    </tr>\n",
              "    <tr>\n",
              "      <th>209</th>\n",
              "      <td>M8Z</td>\n",
              "      <td>Etobicoke</td>\n",
              "      <td>South of Bloor</td>\n",
              "    </tr>\n",
              "  </tbody>\n",
              "</table>\n",
              "<p>210 rows × 3 columns</p>\n",
              "</div>"
            ],
            "text/plain": [
              "    Postcode           Borough             Neighbourhood\n",
              "0        M3A        North York                 Parkwoods\n",
              "1        M4A        North York          Victoria Village\n",
              "2        M5A  Downtown Toronto              Harbourfront\n",
              "3        M6A        North York          Lawrence Heights\n",
              "4        M6A        North York            Lawrence Manor\n",
              "..       ...               ...                       ...\n",
              "205      M8Z         Etobicoke  Kingsway Park South West\n",
              "206      M8Z         Etobicoke                 Mimico NW\n",
              "207      M8Z         Etobicoke        The Queensway West\n",
              "208      M8Z         Etobicoke     Royal York South West\n",
              "209      M8Z         Etobicoke            South of Bloor\n",
              "\n",
              "[210 rows x 3 columns]"
            ]
          },
          "metadata": {
            "tags": []
          },
          "execution_count": 6
        }
      ]
    },
    {
      "cell_type": "code",
      "metadata": {
        "id": "JcmIBeTm7jV4",
        "colab_type": "code",
        "colab": {
          "base_uri": "https://localhost:8080/",
          "height": 34
        },
        "outputId": "aa9c3bec-77d2-4959-ea10-a9f2516b2fb0"
      },
      "source": [
        "# see if there are Neighbourhoods that are Not assigned\n",
        "uniques = df['Neighbourhood'].unique()\n",
        "'Not assigned' in uniques"
      ],
      "execution_count": 7,
      "outputs": [
        {
          "output_type": "execute_result",
          "data": {
            "text/plain": [
              "True"
            ]
          },
          "metadata": {
            "tags": []
          },
          "execution_count": 7
        }
      ]
    },
    {
      "cell_type": "code",
      "metadata": {
        "id": "649zMqEb2m-w",
        "colab_type": "code",
        "colab": {}
      },
      "source": [
        "rows, cols = df.shape"
      ],
      "execution_count": 0,
      "outputs": []
    },
    {
      "cell_type": "code",
      "metadata": {
        "id": "7dRrQax63xRw",
        "colab_type": "code",
        "colab": {
          "base_uri": "https://localhost:8080/",
          "height": 34
        },
        "outputId": "122f1b9b-c195-4e57-f919-716e80548dda"
      },
      "source": [
        "rows"
      ],
      "execution_count": 9,
      "outputs": [
        {
          "output_type": "execute_result",
          "data": {
            "text/plain": [
              "210"
            ]
          },
          "metadata": {
            "tags": []
          },
          "execution_count": 9
        }
      ]
    },
    {
      "cell_type": "code",
      "metadata": {
        "id": "_CVR5MC73yd_",
        "colab_type": "code",
        "colab": {
          "base_uri": "https://localhost:8080/",
          "height": 34
        },
        "outputId": "f7fd191a-7d5a-4497-d6e2-6184333987a8"
      },
      "source": [
        "cols"
      ],
      "execution_count": 10,
      "outputs": [
        {
          "output_type": "execute_result",
          "data": {
            "text/plain": [
              "3"
            ]
          },
          "metadata": {
            "tags": []
          },
          "execution_count": 10
        }
      ]
    },
    {
      "cell_type": "code",
      "metadata": {
        "id": "Fam3rEP13zx4",
        "colab_type": "code",
        "colab": {}
      },
      "source": [
        "# set Not assigned Neighbourhoods to the corresponding Borough \n",
        "for i in range(rows) :\n",
        "  if df.iloc[i, 2] == 'Not assigned':\n",
        "    df.iloc[i, 2] = df.iloc[i, 1]"
      ],
      "execution_count": 0,
      "outputs": []
    },
    {
      "cell_type": "code",
      "metadata": {
        "id": "dQi7Tk5S4EhY",
        "colab_type": "code",
        "colab": {
          "base_uri": "https://localhost:8080/",
          "height": 34
        },
        "outputId": "2e27ec2b-3e37-4d70-a1e1-266de2f84eeb"
      },
      "source": [
        "# check again\n",
        "uniques = df['Neighbourhood'].unique()\n",
        "'Not assigned' in uniques"
      ],
      "execution_count": 15,
      "outputs": [
        {
          "output_type": "execute_result",
          "data": {
            "text/plain": [
              "False"
            ]
          },
          "metadata": {
            "tags": []
          },
          "execution_count": 15
        }
      ]
    },
    {
      "cell_type": "code",
      "metadata": {
        "id": "5soNLPbH4e8M",
        "colab_type": "code",
        "colab": {
          "base_uri": "https://localhost:8080/",
          "height": 34
        },
        "outputId": "3eb67512-413c-4aee-f05f-521f04ff63f7"
      },
      "source": [
        "# check shape as asked in the assignment\n",
        "df.shape"
      ],
      "execution_count": 16,
      "outputs": [
        {
          "output_type": "execute_result",
          "data": {
            "text/plain": [
              "(210, 3)"
            ]
          },
          "metadata": {
            "tags": []
          },
          "execution_count": 16
        }
      ]
    },
    {
      "cell_type": "code",
      "metadata": {
        "id": "RYH-nVdd9XfO",
        "colab_type": "code",
        "colab": {}
      },
      "source": [
        ""
      ],
      "execution_count": 0,
      "outputs": []
    }
  ]
}